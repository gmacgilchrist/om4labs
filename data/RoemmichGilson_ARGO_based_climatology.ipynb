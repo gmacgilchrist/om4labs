{
 "cells": [
  {
   "cell_type": "markdown",
   "id": "annoying-crest",
   "metadata": {},
   "source": [
    "# Retrieving the Roemmich-Gilson ARGO based T/S Climatology"
   ]
  },
  {
   "cell_type": "code",
   "execution_count": 1,
   "id": "supposed-essex",
   "metadata": {},
   "outputs": [],
   "source": [
    "import xarray as xr\n",
    "from pathlib import Path\n",
    "from glob import glob\n",
    "import requests\n",
    "import warnings\n",
    "import subprocess as sp\n",
    "\n",
    "warnings.filterwarnings(\"ignore\")\n",
    "\n",
    "def url_retrieve(url: str, outfile: Path):\n",
    "    R = requests.get(url, allow_redirects=True, verify=False)\n",
    "    if R.status_code != 200:\n",
    "        raise ConnectionError('could not download {}\\nerror code: {}'.format(url, R.status_code))\n",
    "\n",
    "    outfile.write_bytes(R.content)"
   ]
  },
  {
   "cell_type": "code",
   "execution_count": 2,
   "id": "enabling-sweet",
   "metadata": {},
   "outputs": [],
   "source": [
    "urlroot = \"https://sio-argo.ucsd.edu/gilson/argo_climatology/\""
   ]
  },
  {
   "cell_type": "markdown",
   "id": "presidential-requirement",
   "metadata": {},
   "source": [
    "## Download the 2004-2018 climatology"
   ]
  },
  {
   "cell_type": "code",
   "execution_count": 3,
   "id": "classified-modification",
   "metadata": {},
   "outputs": [],
   "source": [
    "url_retrieve(f\"{urlroot}/RG_ArgoClim_Temperature_2019.nc.gz\", Path(\"./RG_ArgoClim_Temperature_2019.nc.gz\"))\n",
    "url_retrieve(f\"{urlroot}/RG_ArgoClim_Salinity_2019.nc.gz\", Path(\"./RG_ArgoClim_Salinity_2019.nc.gz\"))"
   ]
  },
  {
   "cell_type": "markdown",
   "id": "inside-password",
   "metadata": {},
   "source": [
    "## Download the extension"
   ]
  },
  {
   "cell_type": "code",
   "execution_count": 4,
   "id": "rolled-uniform",
   "metadata": {},
   "outputs": [
    {
     "name": "stdout",
     "output_type": "stream",
     "text": [
      "retrieving RG_ArgoClim_201901_2019.nc.gz\n",
      "retrieving RG_ArgoClim_201902_2019.nc.gz\n",
      "retrieving RG_ArgoClim_201903_2019.nc.gz\n",
      "retrieving RG_ArgoClim_201904_2019.nc.gz\n",
      "retrieving RG_ArgoClim_201905_2019.nc.gz\n",
      "retrieving RG_ArgoClim_201906_2019.nc.gz\n",
      "retrieving RG_ArgoClim_201907_2019.nc.gz\n",
      "retrieving RG_ArgoClim_201908_2019.nc.gz\n",
      "retrieving RG_ArgoClim_201909_2019.nc.gz\n",
      "retrieving RG_ArgoClim_201910_2019.nc.gz\n",
      "retrieving RG_ArgoClim_201911_2019.nc.gz\n",
      "retrieving RG_ArgoClim_201912_2019.nc.gz\n",
      "retrieving RG_ArgoClim_202001_2019.nc.gz\n",
      "retrieving RG_ArgoClim_202002_2019.nc.gz\n",
      "retrieving RG_ArgoClim_202003_2019.nc.gz\n",
      "retrieving RG_ArgoClim_202004_2019.nc.gz\n",
      "retrieving RG_ArgoClim_202005_2019.nc.gz\n",
      "retrieving RG_ArgoClim_202006_2019.nc.gz\n",
      "retrieving RG_ArgoClim_202007_2019.nc.gz\n",
      "retrieving RG_ArgoClim_202008_2019.nc.gz\n",
      "retrieving RG_ArgoClim_202009_2019.nc.gz\n",
      "retrieving RG_ArgoClim_202010_2019.nc.gz\n",
      "retrieving RG_ArgoClim_202011_2019.nc.gz\n",
      "retrieving RG_ArgoClim_202012_2019.nc.gz\n",
      "retrieving RG_ArgoClim_202101_2019.nc.gz\n",
      "retrieving RG_ArgoClim_202102_2019.nc.gz\n",
      "retrieving RG_ArgoClim_202103_2019.nc.gz\n",
      "retrieving RG_ArgoClim_202104_2019.nc.gz\n",
      "retrieving RG_ArgoClim_202105_2019.nc.gz\n",
      "retrieving RG_ArgoClim_202106_2019.nc.gz\n",
      "retrieving RG_ArgoClim_202107_2019.nc.gz\n",
      "retrieving RG_ArgoClim_202108_2019.nc.gz\n",
      "retrieving RG_ArgoClim_202109_2019.nc.gz\n",
      "retrieving RG_ArgoClim_202110_2019.nc.gz\n",
      "retrieving RG_ArgoClim_202111_2019.nc.gz\n",
      "retrieving RG_ArgoClim_202112_2019.nc.gz\n"
     ]
    }
   ],
   "source": [
    "files_ext = []\n",
    "lastyear = 2021\n",
    "for year in range(2019, lastyear+1):\n",
    "    for month in range(1, 12+1):\n",
    "        print(f\"retrieving RG_ArgoClim_{year}{month:02g}_2019.nc.gz\")\n",
    "        files_ext.append(f\"RG_ArgoClim_{year}{month:02g}_2019.nc\")\n",
    "        url_retrieve(f\"{urlroot}/RG_ArgoClim_{year}{month:02g}_2019.nc.gz\", Path(f\"./RG_ArgoClim_{year}{month:02g}_2019.nc.gz\"))"
   ]
  },
  {
   "cell_type": "markdown",
   "id": "female-potter",
   "metadata": {},
   "source": [
    "### Decompress files"
   ]
  },
  {
   "cell_type": "code",
   "execution_count": 5,
   "id": "australian-villa",
   "metadata": {},
   "outputs": [],
   "source": [
    "for f in glob(\"*.gz\"):\n",
    "    sp.check_call(f\"gunzip --keep --force {f}\", shell=True)"
   ]
  },
  {
   "cell_type": "markdown",
   "id": "complicated-offering",
   "metadata": {},
   "source": [
    "## Merge all into a single file"
   ]
  },
  {
   "cell_type": "code",
   "execution_count": 6,
   "id": "urban-contact",
   "metadata": {},
   "outputs": [],
   "source": [
    "ds_clim = xr.open_mfdataset([\"RG_ArgoClim_Temperature_2019.nc\", \"RG_ArgoClim_Salinity_2019.nc\"], decode_times=False, chunks={\"TIME\": 12})"
   ]
  },
  {
   "cell_type": "code",
   "execution_count": 7,
   "id": "amber-connection",
   "metadata": {},
   "outputs": [],
   "source": [
    "ds_extension = xr.open_mfdataset(files_ext, decode_times=False, chunks={\"TIME\": 1})"
   ]
  },
  {
   "cell_type": "markdown",
   "id": "forced-figure",
   "metadata": {},
   "source": [
    "We need to first concatenate time-varying variables then add back the invariant fields:"
   ]
  },
  {
   "cell_type": "code",
   "execution_count": 8,
   "id": "controversial-financing",
   "metadata": {},
   "outputs": [],
   "source": [
    "invariants = [\"ARGO_SALINITY_MEAN\", \"ARGO_TEMPERATURE_MEAN\", \"BATHYMETRY_MASK\", \"MAPPING_MASK\"]\n",
    "\n",
    "ds = xr.concat([ds_clim.drop_vars(invariants), ds_extension], dim=\"TIME\")\n",
    "\n",
    "for var in invariants:\n",
    "    ds[var] = ds_clim[var]"
   ]
  },
  {
   "cell_type": "code",
   "execution_count": 9,
   "id": "pursuant-tribune",
   "metadata": {},
   "outputs": [],
   "source": [
    "ds.to_netcdf(f\"RG_ArgoClim_Extended_200401-{lastyear}12.nc\", format=\"NETCDF3_64BIT\")"
   ]
  }
 ],
 "metadata": {
  "kernelspec": {
   "display_name": "P3-om4labs",
   "language": "python",
   "name": "om4labs"
  },
  "language_info": {
   "codemirror_mode": {
    "name": "ipython",
    "version": 3
   },
   "file_extension": ".py",
   "mimetype": "text/x-python",
   "name": "python",
   "nbconvert_exporter": "python",
   "pygments_lexer": "ipython3",
   "version": "3.8.6"
  }
 },
 "nbformat": 4,
 "nbformat_minor": 5
}
